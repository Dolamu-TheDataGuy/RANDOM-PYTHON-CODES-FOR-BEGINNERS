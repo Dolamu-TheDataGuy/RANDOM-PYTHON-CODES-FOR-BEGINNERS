{
 "cells": [
  {
   "cell_type": "markdown",
   "metadata": {},
   "source": [
    "### 1. CALCULATING CODE EXECUTION TIME"
   ]
  },
  {
   "cell_type": "code",
   "execution_count": 1,
   "metadata": {},
   "outputs": [
    {
     "name": "stdout",
     "output_type": "stream",
     "text": [
      "sum is: 45\n",
      "1621281950.0006359\n",
      "1621281950.0016341\n",
      "Time taken to run code: 0.00099826\n"
     ]
    }
   ],
   "source": [
    "import time\n",
    "\n",
    "start_time = time.time()\n",
    "\n",
    "total = 0\n",
    "for i in range(10):\n",
    "    total+=i\n",
    "print('sum is: {}'.format(total))\n",
    "\n",
    "end_time = time.time()\n",
    "time_taken = end_time - start_time\n",
    "time_taken = round(time_taken, 8)\n",
    "print(start_time)\n",
    "print(end_time)\n",
    "print('Time taken to run code: {}'.format(time_taken))"
   ]
  },
  {
   "cell_type": "markdown",
   "metadata": {},
   "source": [
    "### 2. CALCULATING MODE OF A SET"
   ]
  },
  {
   "cell_type": "code",
   "execution_count": 2,
   "metadata": {},
   "outputs": [
    {
     "name": "stdout",
     "output_type": "stream",
     "text": [
      "most frequent number is: 2\n"
     ]
    }
   ],
   "source": [
    "def most_freq(list):\n",
    "    return max(set(list), key=list.count)\n",
    "my_list = [1,1,2,3,4,5,6,6,2,2]\n",
    "print('most frequent number is:', most_freq(my_list))"
   ]
  },
  {
   "cell_type": "markdown",
   "metadata": {},
   "source": [
    "### 3. GETTING ID NUMBER FOR STRINGS"
   ]
  },
  {
   "cell_type": "code",
   "execution_count": 3,
   "metadata": {},
   "outputs": [
    {
     "name": "stdout",
     "output_type": "stream",
     "text": [
      "140706794055904\n",
      "2577056269936\n",
      "2577056093696\n"
     ]
    }
   ],
   "source": [
    "num = 15\n",
    "name = 'John'\n",
    "list1 = [1,2,3,4]\n",
    "\n",
    "print(id(num))\n",
    "print(id(name))\n",
    "print(id(list1))"
   ]
  },
  {
   "cell_type": "markdown",
   "metadata": {},
   "source": [
    "### 4. MERGING TWO DICTIONARIES\n",
    "Merging multiple dictionaries has become easier with the kwarg** operator. We need to pass dictionaaries in {} along with (**) operator and its done.\n"
   ]
  },
  {
   "cell_type": "code",
   "execution_count": 4,
   "metadata": {},
   "outputs": [
    {
     "name": "stdout",
     "output_type": "stream",
     "text": [
      "Merged dictionary: {'name': 'Joy', 'age': 25, 'city': 'Newyork'}\n"
     ]
    }
   ],
   "source": [
    "dict1 = {\"name\":'Joy', \"age\": 25}\n",
    "dict2 = {\"name\": \"Joy\", \"city\": 'Newyork'}\n",
    "\n",
    "merged_dict = {**dict1, **dict2}\n",
    "\n",
    "print(\"Merged dictionary: {}\".format(merged_dict))"
   ]
  },
  {
   "cell_type": "markdown",
   "metadata": {},
   "source": [
    "### 5. CHAIN COMPARISON"
   ]
  },
  {
   "cell_type": "code",
   "execution_count": 5,
   "metadata": {},
   "outputs": [
    {
     "name": "stdout",
     "output_type": "stream",
     "text": [
      "True\n",
      "False\n"
     ]
    }
   ],
   "source": [
    "a = 5\n",
    "print(2<a<8)\n",
    "print(1 == a < 3)"
   ]
  },
  {
   "cell_type": "markdown",
   "metadata": {},
   "source": [
    "### 6. PRINT A STRING N TIMES"
   ]
  },
  {
   "cell_type": "code",
   "execution_count": 6,
   "metadata": {},
   "outputs": [
    {
     "name": "stdout",
     "output_type": "stream",
     "text": [
      "Hello!!!Hello!!!Hello!!!Hello!!!Hello!!!\n"
     ]
    }
   ],
   "source": [
    "n = 5\n",
    "string = 'Hello!!!'\n",
    "\n",
    "print(string * n)"
   ]
  },
  {
   "cell_type": "markdown",
   "metadata": {},
   "source": [
    "### 7. CHECKING IF A FILE EXISTS\n",
    "While working with file handling and other operation, it is necessary to know if the file we are using in our code snippet, we can know whether the file exists or not in our directory or given path."
   ]
  },
  {
   "cell_type": "code",
   "execution_count": 7,
   "metadata": {},
   "outputs": [
    {
     "name": "stdout",
     "output_type": "stream",
     "text": [
      "Does file exist: False\n"
     ]
    }
   ],
   "source": [
    "from os import path\n",
    "\n",
    "def check_for_file():\n",
    "    print(\"Does file exist:\", path.exists('data.csv'))\n",
    "    \n",
    "if __name__==\"__main__\":\n",
    "    check_for_file()"
   ]
  },
  {
   "cell_type": "markdown",
   "metadata": {},
   "source": [
    "### 8. RETREIVE THE LAST ELEMENT OF A LIST"
   ]
  },
  {
   "cell_type": "code",
   "execution_count": 8,
   "metadata": {},
   "outputs": [
    {
     "name": "stdout",
     "output_type": "stream",
     "text": [
      "pineapple\n"
     ]
    }
   ],
   "source": [
    "my_list = [\"banana\", \"apple\", \"orange\",\"pineapple\"]\n",
    "\n",
    "#using brute force method\n",
    "last_element = my_list[len(my_list) - 1]\n",
    "\n",
    "#using negative indices\n",
    "last_element = my_list[-1]\n",
    "\n",
    "#using pop method\n",
    "last_element = my_list.pop()\n",
    "print(last_element)"
   ]
  },
  {
   "cell_type": "markdown",
   "metadata": {},
   "source": [
    "### 9. LIST COMPREHENSION\n",
    "List comprehension can be used to create a new list based on the elements of an existing list in just a single line of code."
   ]
  },
  {
   "cell_type": "code",
   "execution_count": 9,
   "metadata": {},
   "outputs": [
    {
     "name": "stdout",
     "output_type": "stream",
     "text": [
      "Vowels are: ['i', 'i', 'a', 'a', 'o', 'i']\n"
     ]
    }
   ],
   "source": [
    "def get_vowels(string):\n",
    "    return [vowel for vowel in string if vowel in 'aeiou']\n",
    "\n",
    "print(\"Vowels are:\", get_vowels(\"This is a random string\"))"
   ]
  },
  {
   "cell_type": "markdown",
   "metadata": {},
   "source": [
    "### 10. CONVERT TWO LISTS INTO A DICTIONARY\n",
    "This code snippet can be used to convert two lists into a dictionary. In this method, we take two lists as input values. The first list will be the key of the dictionary, and values from the other list will be values of the dictionary."
   ]
  },
  {
   "cell_type": "code",
   "execution_count": 10,
   "metadata": {},
   "outputs": [
    {
     "name": "stdout",
     "output_type": "stream",
     "text": [
      "{1: 'one', 2: 'two', 3: 'three'}\n"
     ]
    }
   ],
   "source": [
    "def list_to_dict(keys, values):\n",
    "    return dict(zip(keys,values))\n",
    "list1 = [1,2,3]\n",
    "list2 = ['one','two','three']\n",
    "\n",
    "print(list_to_dict(list1,list2))"
   ]
  },
  {
   "cell_type": "markdown",
   "metadata": {},
   "source": [
    "### 11. ERROR HANDLING\n",
    "Like other programming language, python also provides a way to handle exceptions using `try`,`except` and `finally` block."
   ]
  },
  {
   "cell_type": "code",
   "execution_count": 11,
   "metadata": {},
   "outputs": [
    {
     "name": "stdout",
     "output_type": "stream",
     "text": [
      "Can not divide by zero\n",
      "Executing finally block\n"
     ]
    }
   ],
   "source": [
    "a,b = 1, 0\n",
    "\n",
    "try:\n",
    "    print(a/b)\n",
    "except ZeroDivisionError:\n",
    "    print('Can not divide by zero')\n",
    "finally:\n",
    "    print(\"Executing finally block\")"
   ]
  },
  {
   "cell_type": "markdown",
   "metadata": {},
   "source": [
    "### 12. REVERSING A STRING\n",
    "We can use the Python slicing operation to reverse a string. This is also an effective and most straightforward way to reverse a string."
   ]
  },
  {
   "cell_type": "code",
   "execution_count": 12,
   "metadata": {},
   "outputs": [
    {
     "name": "stdout",
     "output_type": "stream",
     "text": [
      "Reversed string is: dlroW olleH\n"
     ]
    }
   ],
   "source": [
    "strr = \"Hello World\"\n",
    "\n",
    "print(\"Reversed string is:\", strr[::-1])"
   ]
  },
  {
   "cell_type": "markdown",
   "metadata": {},
   "source": [
    "### 13. COMBINING A LIST OF STRINGS INTO A SINGLE STRING\n",
    "We can use the `join()` function to combine a list of strings into a single string."
   ]
  },
  {
   "cell_type": "code",
   "execution_count": 13,
   "metadata": {},
   "outputs": [
    {
     "name": "stdout",
     "output_type": "stream",
     "text": [
      "Hello_world_ok_Bye!\n"
     ]
    }
   ],
   "source": [
    "listt = ['Hello', 'world', 'ok', 'Bye!']\n",
    "combined_string = \"_\".join(listt)\n",
    "print(combined_string)"
   ]
  },
  {
   "cell_type": "markdown",
   "metadata": {},
   "source": [
    "### 14. GETTING DEFAULT VALUES FOR MISSING KEYS\n",
    "In the Python ditionary, `get()` method is used to retrieve an item with a specified key from a dictionary, then we can return a default value for that key."
   ]
  },
  {
   "cell_type": "code",
   "execution_count": 14,
   "metadata": {},
   "outputs": [
    {
     "name": "stdout",
     "output_type": "stream",
     "text": [
      "three\n",
      "original dictionary: {1: 'one', 2: 'two', 4: 'four'}\n"
     ]
    }
   ],
   "source": [
    "dictt = {1: \"one\", 2: \"two\", 4: \"four\"}\n",
    "\n",
    "#returning three as default value\n",
    "print(dictt.get(3, \"three\"))\n",
    "\n",
    "print('original dictionary:', dictt)"
   ]
  },
  {
   "cell_type": "markdown",
   "metadata": {},
   "source": [
    "### 15. SWAP TWO VALUES WITHOUT AN EXTRA VARIABLE\n",
    "This code snippet can be used to swap two values without an extra variable."
   ]
  },
  {
   "cell_type": "code",
   "execution_count": 15,
   "metadata": {},
   "outputs": [
    {
     "data": {
      "text/plain": [
       "(2, 1)"
      ]
     },
     "execution_count": 15,
     "metadata": {},
     "output_type": "execute_result"
    }
   ],
   "source": [
    "a, b = 5, 10\n",
    "\n",
    "#Method 1\n",
    "a, b = b, a\n",
    "\n",
    "#Method 2\n",
    "def swap(a,b):\n",
    "    return b,a\n",
    "swap(1,2)"
   ]
  },
  {
   "cell_type": "markdown",
   "metadata": {},
   "source": [
    "### 16. REGULAR EXPRESSIONS\n",
    "A Regular Expression (or RE) specifies set of strings that matches it. The function in `re()` module let you check if a particular string matches a given regular expression."
   ]
  },
  {
   "cell_type": "code",
   "execution_count": 18,
   "metadata": {},
   "outputs": [
    {
     "name": "stdout",
     "output_type": "stream",
     "text": [
      "True\n"
     ]
    }
   ],
   "source": [
    "import re\n",
    "\n",
    "text = \"The rain in spain\"\n",
    "result = re.search(\"rain\",text)\n",
    "print(True if result else False)"
   ]
  },
  {
   "cell_type": "markdown",
   "metadata": {},
   "source": [
    "### 17. PALINDROME\n",
    "This snippet can be used to check if the given string is Palindrome or not. A palindrome is a word or sequence of characters that reads the same forward and backwards."
   ]
  },
  {
   "cell_type": "code",
   "execution_count": 80,
   "metadata": {},
   "outputs": [
    {
     "name": "stdout",
     "output_type": "stream",
     "text": [
      "True\n",
      "False\n"
     ]
    }
   ],
   "source": [
    "def palindrome(str):\n",
    "    return str == str[::-1]\n",
    "print(palindrome('hannah'))\n",
    "print(palindrome('solo'))"
   ]
  },
  {
   "cell_type": "markdown",
   "metadata": {},
   "source": [
    "### 18. FILTER VALUES\n",
    "The `filter()` method filters the iterable with the help of a function that checks each value in the iterable to be true or not."
   ]
  },
  {
   "cell_type": "code",
   "execution_count": 81,
   "metadata": {},
   "outputs": [
    {
     "name": "stdout",
     "output_type": "stream",
     "text": [
      "{1, 3, 5, 7, 9}\n"
     ]
    }
   ],
   "source": [
    "my_list = [0,1,2,3,4,5,6,7,9,10]\n",
    "\n",
    "result = filter(lambda x: x % 2 != 0, my_list)\n",
    "\n",
    "print(set(result))"
   ]
  },
  {
   "cell_type": "markdown",
   "metadata": {},
   "source": [
    "### 19. ANAGRAMS\n",
    "This method can be used to determine if two strings are anagrams. An anagram is a word or phrase formed by rearranging the letters of a different word or phrase."
   ]
  },
  {
   "cell_type": "code",
   "execution_count": 82,
   "metadata": {},
   "outputs": [
    {
     "name": "stdout",
     "output_type": "stream",
     "text": [
      "True\n",
      "False\n"
     ]
    }
   ],
   "source": [
    "from collections import Counter\n",
    "\n",
    "def is_anagram(string1, string2):\n",
    "    return Counter(string1) == Counter(string2)\n",
    "\n",
    "print(is_anagram('bat','tab'))\n",
    "print(is_anagram('rice','dice'))"
   ]
  },
  {
   "cell_type": "markdown",
   "metadata": {},
   "source": [
    "### 20. MEMORY USAGE OF VARIABLE\n",
    "This code snippet can be used to check the memory usage of an object."
   ]
  },
  {
   "cell_type": "code",
   "execution_count": 83,
   "metadata": {},
   "outputs": [
    {
     "name": "stdout",
     "output_type": "stream",
     "text": [
      "28\n",
      "96\n"
     ]
    }
   ],
   "source": [
    "import sys\n",
    "\n",
    "var1 = 15\n",
    "list1 = [1,2,3,4,5]\n",
    "\n",
    "print(sys.getsizeof(var1))\n",
    "print(sys.getsizeof(list1))"
   ]
  },
  {
   "cell_type": "markdown",
   "metadata": {},
   "source": [
    "### 21. CHAINED FUNCTION CALL\n",
    "Using this code snippet, you can call multiple functions in a single line.\n"
   ]
  },
  {
   "cell_type": "code",
   "execution_count": 84,
   "metadata": {},
   "outputs": [
    {
     "name": "stdout",
     "output_type": "stream",
     "text": [
      "15\n"
     ]
    }
   ],
   "source": [
    "def add(a,b):\n",
    "    return a + b\n",
    "def sub(a,b):\n",
    "    return a-b\n",
    "a, b = 5, 10\n",
    "    \n",
    "print((add if b>a else subtract)(a,b))"
   ]
  },
  {
   "cell_type": "markdown",
   "metadata": {},
   "source": [
    "### 22. REMOVE DUPLICATES FROM A LIST.\n",
    "These methods can be used to remove duplicate values from a list."
   ]
  },
  {
   "cell_type": "code",
   "execution_count": 19,
   "metadata": {},
   "outputs": [
    {
     "name": "stdout",
     "output_type": "stream",
     "text": [
      "{1, 2, 3, 4, 'Mark', 'Ana', 'John'}\n",
      "[1, 2, 3, 4, 'John', 'Ana', 'Mark']\n"
     ]
    }
   ],
   "source": [
    "list1 = [1,2,3,3,4, 'John','Ana','Mark','John']\n",
    "\n",
    "#Method1\n",
    "def remove_duplicate(list_value):\n",
    "    return (set(list_value))\n",
    "print(remove_duplicate(list1))\n",
    "\n",
    "#Method2\n",
    "result = []\n",
    "[result.append(x) for x in list1 if x not in result]\n",
    "print(result)"
   ]
  }
 ],
 "metadata": {
  "kernelspec": {
   "display_name": "Python 3",
   "language": "python",
   "name": "python3"
  },
  "language_info": {
   "codemirror_mode": {
    "name": "ipython",
    "version": 3
   },
   "file_extension": ".py",
   "mimetype": "text/x-python",
   "name": "python",
   "nbconvert_exporter": "python",
   "pygments_lexer": "ipython3",
   "version": "3.8.5"
  }
 },
 "nbformat": 4,
 "nbformat_minor": 4
}
